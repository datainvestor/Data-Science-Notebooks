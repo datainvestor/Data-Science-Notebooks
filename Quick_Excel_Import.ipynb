{
 "cells": [
  {
   "cell_type": "code",
   "execution_count": 9,
   "metadata": {},
   "outputs": [
    {
     "name": "stdout",
     "output_type": "stream",
     "text": [
      "loaded excel in:  2.859375\n"
     ]
    }
   ],
   "source": [
    "import pandas as pd\n",
    "import time\n",
    "\n",
    "start = time.process_time()\n",
    "df=pd.read_excel(\"Data_tapes.xlsx\", sheet_name=\"Facility\") #zmien nazwe pliku excelowego i nazwe sheet_name\n",
    "print(\"loaded excel in: \", time.process_time() - start)"
   ]
  },
  {
   "cell_type": "code",
   "execution_count": 10,
   "metadata": {},
   "outputs": [
    {
     "name": "stdout",
     "output_type": "stream",
     "text": [
      "printed excel in:  1.859375\n",
      "loaded excel:  1.890625\n"
     ]
    }
   ],
   "source": [
    "import csv\n",
    "import openpyxl\n",
    "\n",
    "start = time.process_time()\n",
    "wb =  openpyxl.load_workbook(\"Data_tapes.xlsx\", read_only=True) #zmien nazwe pliku xlsx\n",
    "ws = wb['Facility'] #zmien nazwe sheet_name\n",
    "with open(\"myfile.csv\", \"w\") as out: #nazwa pliku wysjciowego\n",
    "    writer = csv.writer(out)\n",
    "    for row in ws:\n",
    "        values = (cell.value for cell in row)\n",
    "        writer.writerow(values)\n",
    "print(\"printed excel in: \", time.process_time() - start)\n",
    "df2=pd.read_csv(\"myfile.csv\") #nazwa pliku wyjsciowego\n",
    "print(\"loaded excel: \", time.process_time() - start)"
   ]
  },
  {
   "cell_type": "code",
   "execution_count": null,
   "metadata": {},
   "outputs": [],
   "source": []
  }
 ],
 "metadata": {
  "kernelspec": {
   "display_name": "Python 3",
   "language": "python",
   "name": "python3"
  },
  "language_info": {
   "codemirror_mode": {
    "name": "ipython",
    "version": 3
   },
   "file_extension": ".py",
   "mimetype": "text/x-python",
   "name": "python",
   "nbconvert_exporter": "python",
   "pygments_lexer": "ipython3",
   "version": "3.6.10"
  }
 },
 "nbformat": 4,
 "nbformat_minor": 4
}
